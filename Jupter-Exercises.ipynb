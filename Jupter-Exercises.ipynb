{
 "cells": [
  {
   "cell_type": "markdown",
   "id": "e9e7586e-9a5b-4e06-85d9-54198bef247b",
   "metadata": {},
   "source": [
    "My CV"
   ]
  },
  {
   "cell_type": "markdown",
   "id": "555afb7c-a529-44bb-9168-f1d59f35173f",
   "metadata": {
    "user_expressions": []
   },
   "source": [
    "# __Maksym Rusakov__"
   ]
  },
  {
   "cell_type": "markdown",
   "id": "a472066f-f31d-4935-b560-60b4d0f909bb",
   "metadata": {
    "user_expressions": []
   },
   "source": [
    "### _6322 Sudbury Dr, 75312 Dallas, TX_"
   ]
  },
  {
   "cell_type": "markdown",
   "id": "6785038e-89ad-443f-98c4-8895e39ec69f",
   "metadata": {
    "user_expressions": []
   },
   "source": [
    "Skills:\n",
    "    -Excel\n",
    "    -RE Liscence \n",
    "    -Networking and Connection Building\n",
    "    -Leadership\n",
    "    -Ukranian and Russian Fluent\n",
    "    -History Expert\n",
    "    -Finance\n",
    "    -Accounting"
   ]
  },
  {
   "cell_type": "markdown",
   "id": "39954e3c-f46b-42c2-835f-a6644dc973de",
   "metadata": {
    "user_expressions": []
   },
   "source": [
    "Education:\n",
    "    -Southern Methodist University\n",
    "    -Champions School of Real Estate\n",
    "    -Redondo Union High School"
   ]
  },
  {
   "cell_type": "markdown",
   "id": "5d1b5675-f4cb-43b6-b09f-9e5f1bae01c5",
   "metadata": {
    "user_expressions": []
   },
   "source": [
    "## Education:\n",
    "> -Southern Methodist University\n",
    "-Champions school of Real Esatate\n",
    "-Redondo Union High School"
   ]
  },
  {
   "cell_type": "markdown",
   "id": "9136e87a-7cb4-4812-a431-797ca9fc62b7",
   "metadata": {
    "user_expressions": []
   },
   "source": [
    "# About me:"
   ]
  },
  {
   "cell_type": "markdown",
   "id": "9a56c576-9076-4544-b6d0-f21d5709c4cc",
   "metadata": {
    "user_expressions": []
   },
   "source": [
    "My name is Maksym Rusakov, and I was originally born in Kiev, Ukraine. Me and my family moved to California when I was 14 years old, and I quickly got interested in bussines sides of finance, enterpreneurship and real estate. I am looking for jobs as financial analyst, consultunt real estate broker or investor broker."
   ]
  },
  {
   "cell_type": "markdown",
   "id": "92def613-2bcf-4e87-84b1-d0ff5a595aa2",
   "metadata": {
    "user_expressions": []
   },
   "source": [
    "## Linkedn:"
   ]
  },
  {
   "cell_type": "markdown",
   "id": "8178a44e-324e-4a62-9c7f-a1a48fca7f70",
   "metadata": {
    "user_expressions": []
   },
   "source": [
    "[Link](https://www.linkedin.com)"
   ]
  },
  {
   "cell_type": "code",
   "execution_count": null,
   "id": "6b8d93fb-1b6f-4496-a3e5-06d58eb05479",
   "metadata": {},
   "outputs": [],
   "source": []
  }
 ],
 "metadata": {
  "kernelspec": {
   "display_name": "Python 3 (ipykernel)",
   "language": "python",
   "name": "python3"
  },
  "language_info": {
   "codemirror_mode": {
    "name": "ipython",
    "version": 3
   },
   "file_extension": ".py",
   "mimetype": "text/x-python",
   "name": "python",
   "nbconvert_exporter": "python",
   "pygments_lexer": "ipython3",
   "version": "3.9.13"
  }
 },
 "nbformat": 4,
 "nbformat_minor": 5
}
